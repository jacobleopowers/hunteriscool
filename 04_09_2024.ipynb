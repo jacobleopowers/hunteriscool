{
  "nbformat": 4,
  "nbformat_minor": 0,
  "metadata": {
    "colab": {
      "provenance": [],
      "authorship_tag": "ABX9TyO9xX//z8bVpuFsKfIJ9wuX",
      "include_colab_link": true
    },
    "kernelspec": {
      "name": "python3",
      "display_name": "Python 3"
    },
    "language_info": {
      "name": "python"
    }
  },
  "cells": [
    {
      "cell_type": "markdown",
      "metadata": {
        "id": "view-in-github",
        "colab_type": "text"
      },
      "source": [
        "<a href=\"https://colab.research.google.com/github/jacobleopowers/hunteriscool/blob/main/04_09_2024.ipynb\" target=\"_parent\"><img src=\"https://colab.research.google.com/assets/colab-badge.svg\" alt=\"Open In Colab\"/></a>"
      ]
    },
    {
      "cell_type": "code",
      "execution_count": null,
      "metadata": {
        "id": "qt_ZLlJxDO71"
      },
      "outputs": [],
      "source": [
        "## try and except\n",
        "\n",
        "try:\n",
        "  a = float(input('Enter the numerator: '))\n",
        "  b = float(inpit('Enter the denominator'))\n",
        "  print(a/b)\n",
        "  print('Division complete')\n",
        "except ZeroDivsionError:\n",
        "    print('Error occured!')\n",
        "\n",
        "print('Program ends')\n"
      ]
    },
    {
      "cell_type": "code",
      "source": [
        "fst = [1,3,5,7,9]\n",
        "\n",
        "try:\n",
        "  idx = int(input('Enter index: '))\n",
        "  print(fst[idx])\n",
        "except IndexError:\n",
        "  print('Index value out of bounds! ')\n",
        "except TypeError:\n",
        "  print('Indexes must be int')"
      ],
      "metadata": {
        "colab": {
          "base_uri": "https://localhost:8080/"
        },
        "id": "MQjuRmQ2IiEh",
        "outputId": "a351977e-9f57-416e-8aeb-536637515476"
      },
      "execution_count": 7,
      "outputs": [
        {
          "output_type": "stream",
          "name": "stdout",
          "text": [
            "Enter index: 8\n",
            "Index value out of bounds! \n"
          ]
        }
      ]
    },
    {
      "cell_type": "code",
      "source": [
        "def avg(alist):\n",
        "  try:\n",
        "    return sum(alist) / len(alist)\n",
        "  except ZeroDivisionError:\n",
        "    print('The list is empthy!')\n",
        "    return\n",
        "  except TypeError:\n",
        "    print('The list is not purelu nimerical!')\n",
        "    return flloat('nan')\n",
        "\n",
        "ktf = [1,2,3]\n",
        "avg(ktf)"
      ],
      "metadata": {
        "colab": {
          "base_uri": "https://localhost:8080/"
        },
        "id": "WSxhPxZZKj6c",
        "outputId": "d7bf1d5c-27dc-4e63-a4f8-433ab57774eb"
      },
      "execution_count": 10,
      "outputs": [
        {
          "output_type": "execute_result",
          "data": {
            "text/plain": [
              "2.0"
            ]
          },
          "metadata": {},
          "execution_count": 10
        }
      ]
    }
  ]
}