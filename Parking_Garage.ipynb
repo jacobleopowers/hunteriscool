{
  "nbformat": 4,
  "nbformat_minor": 0,
  "metadata": {
    "colab": {
      "provenance": [],
      "authorship_tag": "ABX9TyP4zvo80mkXDQuHJn7UNPO5",
      "include_colab_link": true
    },
    "kernelspec": {
      "name": "python3",
      "display_name": "Python 3"
    },
    "language_info": {
      "name": "python"
    }
  },
  "cells": [
    {
      "cell_type": "markdown",
      "metadata": {
        "id": "view-in-github",
        "colab_type": "text"
      },
      "source": [
        "<a href=\"https://colab.research.google.com/github/jacobleopowers/hunteriscool/blob/main/Parking_Garage.ipynb\" target=\"_parent\"><img src=\"https://colab.research.google.com/assets/colab-badge.svg\" alt=\"Open In Colab\"/></a>"
      ]
    },
    {
      "cell_type": "code",
      "execution_count": null,
      "metadata": {
        "id": "YE6q3_U56npo"
      },
      "outputs": [],
      "source": [
        "def getParkingHours():\n",
        "    return int(input('Enter number of hours: '))\n",
        "\n",
        "def calcParkingFee(hours):\n",
        "  maxParkingFee = 20\n",
        "  minParkingFee = 8\n",
        "  parkingFee = 2.5 * hours\n",
        "  if parkingFee <= 6:\n",
        "    return minParkingFee\n",
        "  elif parkingFee >= 20:\n",
        "    return maxParkingFee\n",
        "  else:\n",
        "      return parkingFee\n",
        "\n",
        "hours = getParkingHours()\n",
        "fee = calcParkingFee(hours)\n",
        "print(f'Total chrge: ${fee}')"
      ]
    }
  ]
}