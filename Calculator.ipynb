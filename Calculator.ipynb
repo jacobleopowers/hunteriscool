{
  "nbformat": 4,
  "nbformat_minor": 0,
  "metadata": {
    "colab": {
      "provenance": [],
      "authorship_tag": "ABX9TyP8sMuDNS7d/qhufpPSvoGK",
      "include_colab_link": true
    },
    "kernelspec": {
      "name": "python3",
      "display_name": "Python 3"
    },
    "language_info": {
      "name": "python"
    }
  },
  "cells": [
    {
      "cell_type": "markdown",
      "metadata": {
        "id": "view-in-github",
        "colab_type": "text"
      },
      "source": [
        "<a href=\"https://colab.research.google.com/github/jacobleopowers/hunteriscool/blob/main/Calculator.ipynb\" target=\"_parent\"><img src=\"https://colab.research.google.com/assets/colab-badge.svg\" alt=\"Open In Colab\"/></a>"
      ]
    },
    {
      "cell_type": "code",
      "execution_count": null,
      "metadata": {
        "colab": {
          "base_uri": "https://localhost:8080/"
        },
        "id": "Tc5T7e795Jnr",
        "outputId": "29ef0711-ce4c-47e5-cdac-c61ddd86210d"
      },
      "outputs": [
        {
          "output_type": "stream",
          "name": "stdout",
          "text": [
            "What operation are you performing? /\n",
            "First value: 10\n",
            "second value: 5\n",
            "2.0\n"
          ]
        }
      ],
      "source": [
        "while True:\n",
        " operator = input('What operation are you performing? ')\n",
        " if (operator == \"Break\" or operator == \"break\"):\n",
        "   break\n",
        " n1 = float(input(\"First value: \"))\n",
        " n2 = float(input(\"second value: \"))\n",
        " if operator == \"+\":\n",
        "   print(n1 + n2)\n",
        " elif operator == \"-\":\n",
        "   print(n1 - n2)\n",
        " elif operator == \"*\":\n",
        "   print(n1 * n2)\n",
        " elif (operator == \"/\"):\n",
        "   print(n1 / n2)\n",
        " elif (operator == \"//\"):\n",
        "   print(n1 // n2)\n",
        " elif (operator == \"%\"):\n",
        "   print(n1 % n2)\n",
        " else:\n",
        "   continue"
      ]
    }
  ]
}