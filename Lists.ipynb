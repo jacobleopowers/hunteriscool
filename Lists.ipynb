{
  "nbformat": 4,
  "nbformat_minor": 0,
  "metadata": {
    "colab": {
      "provenance": [],
      "authorship_tag": "ABX9TyOvf0z2/cyvZCe1T71PTcrI",
      "include_colab_link": true
    },
    "kernelspec": {
      "name": "python3",
      "display_name": "Python 3"
    },
    "language_info": {
      "name": "python"
    }
  },
  "cells": [
    {
      "cell_type": "markdown",
      "metadata": {
        "id": "view-in-github",
        "colab_type": "text"
      },
      "source": [
        "<a href=\"https://colab.research.google.com/github/jacobleopowers/hunteriscool/blob/main/Lists.ipynb\" target=\"_parent\"><img src=\"https://colab.research.google.com/assets/colab-badge.svg\" alt=\"Open In Colab\"/></a>"
      ]
    },
    {
      "cell_type": "code",
      "execution_count": 2,
      "metadata": {
        "colab": {
          "base_uri": "https://localhost:8080/"
        },
        "id": "DjlHhRLmERUE",
        "outputId": "fb93dd53-bb66-4716-dc5e-923610a45c67"
      },
      "outputs": [
        {
          "output_type": "stream",
          "name": "stdout",
          "text": [
            "[[1, 2, 3], [4, 5, 6]]\n",
            "[4, 5, 6]\n",
            "[7, 5, 6]\n",
            "[[1, 2, 3], 1]\n"
          ]
        }
      ],
      "source": [
        "L_outer = [[1, 2, 3], [4 , 5, 6]]\n",
        "print(L_outer)\n",
        "l = L_outer[1]\n",
        "print(l)\n",
        "l[0]=7\n",
        "print(l)\n",
        "L_outer[1] = 1\n",
        "print(L_outer)\n"
      ]
    },
    {
      "cell_type": "code",
      "source": [],
      "metadata": {
        "id": "XCE9qTO3E_06"
      },
      "execution_count": null,
      "outputs": []
    }
  ]
}