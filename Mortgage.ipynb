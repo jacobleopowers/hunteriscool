{
  "nbformat": 4,
  "nbformat_minor": 0,
  "metadata": {
    "colab": {
      "provenance": [],
      "authorship_tag": "ABX9TyP/cRoeb7Yh4f6E4OkiGgel",
      "include_colab_link": true
    },
    "kernelspec": {
      "name": "python3",
      "display_name": "Python 3"
    },
    "language_info": {
      "name": "python"
    }
  },
  "cells": [
    {
      "cell_type": "markdown",
      "metadata": {
        "id": "view-in-github",
        "colab_type": "text"
      },
      "source": [
        "<a href=\"https://colab.research.google.com/github/jacobleopowers/hunteriscool/blob/main/Mortgage.ipynb\" target=\"_parent\"><img src=\"https://colab.research.google.com/assets/colab-badge.svg\" alt=\"Open In Colab\"/></a>"
      ]
    },
    {
      "cell_type": "code",
      "execution_count": 1,
      "metadata": {
        "id": "5FzFpozSH9mg"
      },
      "outputs": [],
      "source": [
        "class Mortgage:\n",
        " def __init__(self, amount, maturity, interest):\n",
        "   self.amount = amount\n",
        "   self.maturity = maturity\n",
        "   self.__interest = interest\n",
        "\n",
        "\n",
        " def __str__(self):\n",
        "   return \"Loan amount: $\" + str(self.amount) + \"\\n\" + \"Maturity term: \" + str(self.maturity) + \" years\" + \"\\n\" + \"Interest Rate: \" + str(self.__interest) + \"%\"\n",
        "\n",
        "\n",
        " def get_interest(self):\n",
        "   return self.__interest\n",
        "\n",
        "\n",
        " def set_interest(self, newInterest):\n",
        "   if newInterest >= 0:\n",
        "     self.__interest = newInterest\n",
        "   else:\n",
        "     print('Interest must be non-negative!')\n",
        "\n",
        "\n",
        "\n",
        "\n",
        " def payment(self):\n",
        "   term = 12 * self.maturity\n",
        "   r = self.__interest / 100\n",
        "   return self.amount * (r * (1 + r) ** term) / ((1 + r) ** term - 1)"
      ]
    },
    {
      "cell_type": "code",
      "source": [
        "m = Mortgage(100000, 30, 6)\n",
        "m.payment()"
      ],
      "metadata": {
        "colab": {
          "base_uri": "https://localhost:8080/"
        },
        "id": "szMRvHcaIGWF",
        "outputId": "2a12c026-1b1a-4040-d861-932f5a5e69b0"
      },
      "execution_count": 2,
      "outputs": [
        {
          "output_type": "execute_result",
          "data": {
            "text/plain": [
              "6000.000004656286"
            ]
          },
          "metadata": {},
          "execution_count": 2
        }
      ]
    },
    {
      "cell_type": "code",
      "source": [
        "m.set_interest(5)\n",
        "m.get_interest()"
      ],
      "metadata": {
        "colab": {
          "base_uri": "https://localhost:8080/"
        },
        "id": "9ZyZRbyvMcwU",
        "outputId": "346fdb77-122e-4044-f750-a498013c40b4"
      },
      "execution_count": 3,
      "outputs": [
        {
          "output_type": "execute_result",
          "data": {
            "text/plain": [
              "5"
            ]
          },
          "metadata": {},
          "execution_count": 3
        }
      ]
    },
    {
      "cell_type": "code",
      "source": [
        "print(m)"
      ],
      "metadata": {
        "colab": {
          "base_uri": "https://localhost:8080/"
        },
        "id": "pKDiURoWMnfR",
        "outputId": "1243b034-81ec-4379-c19a-c648d60210ea"
      },
      "execution_count": 4,
      "outputs": [
        {
          "output_type": "stream",
          "name": "stdout",
          "text": [
            "Loan amount: $100000\n",
            "Maturity term: 30 years\n",
            "Interest Rate: 5%\n"
          ]
        }
      ]
    },
    {
      "cell_type": "code",
      "source": [
        "class A:\n",
        " def __init__(self, item):\n",
        "   self.item = item\n",
        " def whoAmI(self):\n",
        "   print('I am an instance of A')\n",
        "\n",
        "\n",
        "class B:\n",
        " def __init__(self, item):\n",
        "   self.item = item\n",
        " def whoAmI(self):\n",
        "   print('I am an instance of B')\n",
        "\n",
        "a = A(2)\n",
        "b = B(3)"
      ],
      "metadata": {
        "id": "DN49zuhFcKbx"
      },
      "execution_count": 5,
      "outputs": []
    },
    {
      "cell_type": "code",
      "source": [
        "b.whoAmI()"
      ],
      "metadata": {
        "id": "YR51kR0ccNyv",
        "outputId": "ac1d4c7f-1b04-4b98-b7fb-fa05f61ed3f0",
        "colab": {
          "base_uri": "https://localhost:8080/"
        }
      },
      "execution_count": 6,
      "outputs": [
        {
          "output_type": "stream",
          "name": "stdout",
          "text": [
            "I am an instance of B\n"
          ]
        }
      ]
    },
    {
      "cell_type": "code",
      "source": [
        "class Animal:\n",
        " def __init__(self):\n",
        "   print('Animal created')\n",
        " def whoAmI(self):\n",
        "   print('I am an animal')\n",
        "\n",
        "\n",
        "class Bird(Animal):\n",
        "   def __init__(self):\n",
        "     super().__init__()\n",
        "     print('bird created')\n",
        "   def fly(self):\n",
        "     print('Birds can fly')"
      ],
      "metadata": {
        "id": "Afcmt0CvcVSe"
      },
      "execution_count": 7,
      "outputs": []
    },
    {
      "cell_type": "code",
      "source": [
        "a = Animal()\n",
        "b = Bird()"
      ],
      "metadata": {
        "id": "zCKK2ikWcbwf",
        "outputId": "fe4812a7-5f7d-498a-ceab-bcfba2ecbed1",
        "colab": {
          "base_uri": "https://localhost:8080/"
        }
      },
      "execution_count": 9,
      "outputs": [
        {
          "output_type": "stream",
          "name": "stdout",
          "text": [
            "Animal created\n",
            "Animal created\n",
            "bird created\n"
          ]
        }
      ]
    },
    {
      "cell_type": "code",
      "source": [
        "a.whoAmI()\n",
        "b.fly()"
      ],
      "metadata": {
        "id": "GJFsh7R5cgLe",
        "outputId": "33d1057a-f2c8-4324-de43-9fdde0cb3ee3",
        "colab": {
          "base_uri": "https://localhost:8080/"
        }
      },
      "execution_count": 10,
      "outputs": [
        {
          "output_type": "stream",
          "name": "stdout",
          "text": [
            "I am an animal\n",
            "Birds can fly\n"
          ]
        }
      ]
    },
    {
      "cell_type": "code",
      "source": [
        "class Point:\n",
        "  def __init__(self, x, y):\n",
        "    self.x = x\n",
        "    self.y =y\n",
        "  def distance(self, other):\n",
        "    x_diff = (self.x - other.x) ** 2\n",
        "    y_diff = (self.y - other.y) ** 2\n",
        "    return (x_diff + y_diff) ** 0.5\n",
        "\n",
        "class Poin3D(Point)\n",
        "  def __init__(slef, x, y, z):\n",
        "    super().__init__(x, y)\n",
        "    self.z = z\n",
        "\n",
        "p1 = Point(3,4)\n",
        "p2 = Point(6,8)\n",
        "print(p1.distance(p2))\n",
        "p3 = Point3D(3,4, 5)\n",
        "p4 = Point3D(6, 8, 10)\n",
        "print(p3.distance(p4))"
      ],
      "metadata": {
        "id": "AQaPbE4PclzQ",
        "outputId": "1bd61301-f81b-4232-e565-f9cfdd4486a1",
        "colab": {
          "base_uri": "https://localhost:8080/"
        }
      },
      "execution_count": 12,
      "outputs": [
        {
          "output_type": "stream",
          "name": "stdout",
          "text": [
            "5.0\n"
          ]
        }
      ]
    }
  ]
}