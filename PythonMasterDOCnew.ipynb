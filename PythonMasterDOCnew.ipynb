{
  "nbformat": 4,
  "nbformat_minor": 0,
  "metadata": {
    "colab": {
      "provenance": [],
      "authorship_tag": "ABX9TyNbmrJtu9oUnJGn2jK5BXGH",
      "include_colab_link": true
    },
    "kernelspec": {
      "name": "python3",
      "display_name": "Python 3"
    },
    "language_info": {
      "name": "python"
    }
  },
  "cells": [
    {
      "cell_type": "markdown",
      "metadata": {
        "id": "view-in-github",
        "colab_type": "text"
      },
      "source": [
        "<a href=\"https://colab.research.google.com/github/jacobleopowers/hunteriscool/blob/main/PythonMasterDOCnew.ipynb\" target=\"_parent\"><img src=\"https://colab.research.google.com/assets/colab-badge.svg\" alt=\"Open In Colab\"/></a>"
      ]
    },
    {
      "cell_type": "code",
      "execution_count": 1,
      "metadata": {
        "colab": {
          "base_uri": "https://localhost:8080/"
        },
        "id": "WndRwOJrE0PW",
        "outputId": "94a67b7c-8b2b-4dd6-b3da-0c66c0ab1885"
      },
      "outputs": [
        {
          "output_type": "stream",
          "name": "stdout",
          "text": [
            "{'Steve': 90, 'Mike': 86, 'Freddy': 76, 'Woman1': 55}\n"
          ]
        }
      ],
      "source": [
        "## This is a dictionary\n",
        "grades = {\n",
        "    'Steve' : 90,\n",
        "    'Mike' : 86,\n",
        "    'Freddy' : 76,\n",
        "    'Woman1' : 55\n",
        "}\n",
        "print(grades)"
      ]
    },
    {
      "cell_type": "code",
      "source": [
        "## Exam notes, 30 questions, 29 are true false/multiple choice\n",
        "\n",
        "## focused on the first 4 lectures\n",
        "# (1) remeber diference between an object and a variable (do not confused literals with variables), scalar opjects (know all and properties), comparison opperators, functioni types and isinstnace, know all reserved words (AKA keywords)\n",
        "# (2) remeber functions print and input, object .method vs f' (string), input from keyboard to create a string,\n",
        "# nested confitions, iterations (while lopp and for loop), there are NO nested loops, know difference between while and for loops (there will be a true/false question on it)\n",
        "# (3) know len, indexing, creating substrings w/ slicing, creating strings w/ math, lists (for desending --> L.sort(reverse=True)), touples (are immutable listss)"
      ],
      "metadata": {
        "id": "6t7L3ZJGGMlO"
      },
      "execution_count": null,
      "outputs": []
    }
  ]
}