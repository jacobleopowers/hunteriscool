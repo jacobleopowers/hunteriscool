{
  "nbformat": 4,
  "nbformat_minor": 0,
  "metadata": {
    "colab": {
      "provenance": [],
      "authorship_tag": "ABX9TyOL3RqFGu4ETaWW5HmvYQHf",
      "include_colab_link": true
    },
    "kernelspec": {
      "name": "python3",
      "display_name": "Python 3"
    },
    "language_info": {
      "name": "python"
    }
  },
  "cells": [
    {
      "cell_type": "markdown",
      "metadata": {
        "id": "view-in-github",
        "colab_type": "text"
      },
      "source": [
        "<a href=\"https://colab.research.google.com/github/jacobleopowers/hunteriscool/blob/main/4_4_2024.ipynb\" target=\"_parent\"><img src=\"https://colab.research.google.com/assets/colab-badge.svg\" alt=\"Open In Colab\"/></a>"
      ]
    },
    {
      "cell_type": "code",
      "execution_count": 2,
      "metadata": {
        "colab": {
          "base_uri": "https://localhost:8080/",
          "height": 36
        },
        "id": "6ay_BJaaVFQO",
        "outputId": "d8a1c7e3-ec78-4f2a-80a7-e8a648a3b171"
      },
      "outputs": [
        {
          "output_type": "execute_result",
          "data": {
            "text/plain": [
              "'depop'"
            ],
            "application/vnd.google.colaboratory.intrinsic+json": {
              "type": "string"
            }
          },
          "metadata": {},
          "execution_count": 2
        }
      ],
      "source": [
        "def mirrorString(s):\n",
        "  if len(s) == 1:\n",
        "   return s\n",
        "  else:\n",
        "    return s[-1] + mirrorString(s[:-1])\n",
        "\n",
        "mirrorString(\"poped\")"
      ]
    },
    {
      "cell_type": "code",
      "source": [
        "import numpy as np\n",
        "\n",
        "def quickSort(alist):\n",
        "  if len(alist) < 2:\n",
        "    return alist\n",
        "  else:\n",
        "    low, same, high = [], [], []\n",
        "\n",
        "    pivot = len(alist) // 2\n",
        "\n",
        "    for item in alist:\n",
        "      if itme < pivot:\n",
        "        low.append(item)\n",
        "      elif item == pivot:\n",
        "        same.append(item)\n",
        "      else:\n",
        "        high.append(item)\n",
        "\n",
        "  return quickSort(low) + smae + quicksort(high)\n",
        "\n",
        "  quicksort(3,5,7,2,4,7,56,3,435,6,2,25,6,7,94,7)\n"
      ],
      "metadata": {
        "id": "jhF7C-NdcZJn"
      },
      "execution_count": 3,
      "outputs": []
    }
  ]
}