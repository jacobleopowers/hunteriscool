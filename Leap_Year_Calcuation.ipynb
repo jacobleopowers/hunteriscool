{
  "nbformat": 4,
  "nbformat_minor": 0,
  "metadata": {
    "colab": {
      "provenance": [],
      "authorship_tag": "ABX9TyOy032T5i0nOpyJdSquPjKE",
      "include_colab_link": true
    },
    "kernelspec": {
      "name": "python3",
      "display_name": "Python 3"
    },
    "language_info": {
      "name": "python"
    }
  },
  "cells": [
    {
      "cell_type": "markdown",
      "metadata": {
        "id": "view-in-github",
        "colab_type": "text"
      },
      "source": [
        "<a href=\"https://colab.research.google.com/github/jacobleopowers/hunteriscool/blob/main/Leap_Year_Calcuation.ipynb\" target=\"_parent\"><img src=\"https://colab.research.google.com/assets/colab-badge.svg\" alt=\"Open In Colab\"/></a>"
      ]
    },
    {
      "cell_type": "code",
      "execution_count": 1,
      "metadata": {
        "colab": {
          "base_uri": "https://localhost:8080/"
        },
        "id": "CBukkX_U8Blr",
        "outputId": "5ff08e11-5dff-4b45-f8fb-094fc7672df7"
      },
      "outputs": [
        {
          "output_type": "stream",
          "name": "stdout",
          "text": [
            "what year is it? 2028\n",
            "It is a leap year. \n"
          ]
        }
      ],
      "source": [
        "year = float(input(\"what year is it? \"))\n",
        "if year%4 == 0 and year%100 != 0 or year%400 == 0:\n",
        "  print(\"It is a leap year. \")\n",
        "else:\n",
        "  print(\"It is not a leap year. \")"
      ]
    }
  ]
}