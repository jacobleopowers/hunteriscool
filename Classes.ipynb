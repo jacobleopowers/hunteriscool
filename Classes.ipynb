{
  "nbformat": 4,
  "nbformat_minor": 0,
  "metadata": {
    "colab": {
      "provenance": [],
      "authorship_tag": "ABX9TyP3q4ZIpxm0NT3KoVzYsvte",
      "include_colab_link": true
    },
    "kernelspec": {
      "name": "python3",
      "display_name": "Python 3"
    },
    "language_info": {
      "name": "python"
    }
  },
  "cells": [
    {
      "cell_type": "markdown",
      "metadata": {
        "id": "view-in-github",
        "colab_type": "text"
      },
      "source": [
        "<a href=\"https://colab.research.google.com/github/jacobleopowers/hunteriscool/blob/main/Classes.ipynb\" target=\"_parent\"><img src=\"https://colab.research.google.com/assets/colab-badge.svg\" alt=\"Open In Colab\"/></a>"
      ]
    },
    {
      "cell_type": "code",
      "execution_count": null,
      "metadata": {
        "id": "4dhqMgVh7Ofy"
      },
      "outputs": [],
      "source": [
        "lass Vehicle:\n",
        " #This is the constructoor method; used to initialize the\n",
        " # attributes (a.k.a. data) of class instances (a.k.a objects)\n",
        " def __init__(self, n_wheels, n_seats, engine, pedals, dims):\n",
        "   # Setting up (initializing) attributes\n",
        "   self.n_wheels = n_wheels\n",
        "   self.n_seats = n_seats\n",
        "   self.engine = engine\n",
        "   self.pedals = pedals\n",
        "   self.dims = dims\n",
        "   self.model = None\n",
        "\n",
        "\n",
        " def acc(self):\n",
        "   print('The vehicle is accelerating')\n",
        "\n",
        "\n",
        " def dec(self):\n",
        "   print('The vehicle is decelerating')\n",
        "\n",
        "\n",
        "v = Vehicle(4, 4, 'ICE', 3, [1,2,3])\n",
        "v.acc()"
      ]
    }
  ]
}