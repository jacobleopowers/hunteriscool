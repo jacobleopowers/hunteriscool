{
  "nbformat": 4,
  "nbformat_minor": 0,
  "metadata": {
    "colab": {
      "provenance": [],
      "authorship_tag": "ABX9TyNCji9hI3G0b1ZQRWrWRktf",
      "include_colab_link": true
    },
    "kernelspec": {
      "name": "python3",
      "display_name": "Python 3"
    },
    "language_info": {
      "name": "python"
    }
  },
  "cells": [
    {
      "cell_type": "markdown",
      "metadata": {
        "id": "view-in-github",
        "colab_type": "text"
      },
      "source": [
        "<a href=\"https://colab.research.google.com/github/jacobleopowers/hunteriscool/blob/main/DD/MM/YYYY.ipynb\" target=\"_parent\"><img src=\"https://colab.research.google.com/assets/colab-badge.svg\" alt=\"Open In Colab\"/></a>"
      ]
    },
    {
      "cell_type": "code",
      "execution_count": 1,
      "metadata": {
        "colab": {
          "base_uri": "https://localhost:8080/"
        },
        "id": "aSE2jk5j4Mzw",
        "outputId": "bfe569b2-91dd-450c-cb3b-94a5ca1f3892"
      },
      "outputs": [
        {
          "output_type": "stream",
          "name": "stdout",
          "text": [
            "What day of the month is it?(DD): 10\n",
            "What month of the year is it?(MM): 10\n",
            "what year is it?(YYYY): 2022\n",
            "10 / 10 / 2022\n"
          ]
        }
      ],
      "source": [
        "# Write a program that takes as input from the keyboard a string the corresponds to\n",
        "# a date (e.g., 02/02/2024 in the format: MM/DD/YYYY\n",
        "\n",
        "day = input('What day of the month is it?(DD): ')\n",
        "month = input('What month of the year is it?(MM): ')\n",
        "year = input('what year is it?(YYYY): ')\n",
        "\n",
        "(print(day,\"/\",month,\"/\",year))\n"
      ]
    }
  ]
}