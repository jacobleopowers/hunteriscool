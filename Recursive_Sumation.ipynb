{
  "nbformat": 4,
  "nbformat_minor": 0,
  "metadata": {
    "colab": {
      "provenance": [],
      "authorship_tag": "ABX9TyNXMvqvBdtQBUi7/ebH/H9H",
      "include_colab_link": true
    },
    "kernelspec": {
      "name": "python3",
      "display_name": "Python 3"
    },
    "language_info": {
      "name": "python"
    }
  },
  "cells": [
    {
      "cell_type": "markdown",
      "metadata": {
        "id": "view-in-github",
        "colab_type": "text"
      },
      "source": [
        "<a href=\"https://colab.research.google.com/github/jacobleopowers/hunteriscool/blob/main/Recursive_Sumation.ipynb\" target=\"_parent\"><img src=\"https://colab.research.google.com/assets/colab-badge.svg\" alt=\"Open In Colab\"/></a>"
      ]
    },
    {
      "cell_type": "code",
      "execution_count": null,
      "metadata": {
        "id": "3OhwkTwW7xgT"
      },
      "outputs": [],
      "source": [
        "def recursive_factorial(n):\n",
        " if n == 0:\n",
        "   return 1\n",
        " else:\n",
        "   return n * recursive_factorial(n-1)\n",
        "\n",
        "\n",
        "recursive_factorial(4)\n",
        "def fibR(n):\n",
        " if n == 0 or n == 1:\n",
        "   return 1\n",
        " else:\n",
        "   return fibR(n-1) + fibR(n-2)\n",
        "\n",
        "\n",
        "for i in range(8):\n",
        " print(fibR(i), end=', ')\n",
        "def reverse(s):\n",
        " if len(s) == 1:\n",
        "   return s\n",
        " else:\n",
        "   return s[-1] + reverse(s[:-1])\n",
        "\n",
        "\n",
        "reverse(\"Jacob\")\n",
        "import numpy as np\n",
        "\n",
        "\n",
        "def quickSort(alist):\n",
        " if len(alist) < 2:\n",
        "   return(alist)\n",
        " else:\n",
        "   low, same, high = [], [], []\n",
        "\n",
        "\n",
        "   pivot = len(alist) // 2 #np.random.randint(0, len(alist)-1)\n",
        "\n",
        "\n",
        "   for item in alist:\n",
        "\n",
        "\n",
        "     if item < alist[pivot]:\n",
        "       low.append(item)\n",
        "     elif item ==alist[pivot]:\n",
        "       same.append(item)\n",
        "     else:\n",
        "       high.append(item)\n",
        "\n",
        "\n",
        "   return quickSort(low) + same + quickSort(high)\n",
        "\n",
        "\n",
        "\n",
        "\n",
        "quickSort([6,2,9,7,9,5])\n"
      ]
    }
  ]
}