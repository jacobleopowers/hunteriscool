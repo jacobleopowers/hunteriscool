{
  "nbformat": 4,
  "nbformat_minor": 0,
  "metadata": {
    "colab": {
      "provenance": [],
      "authorship_tag": "ABX9TyOcfETBba8RoQcQQpZfm9vP",
      "include_colab_link": true
    },
    "kernelspec": {
      "name": "python3",
      "display_name": "Python 3"
    },
    "language_info": {
      "name": "python"
    }
  },
  "cells": [
    {
      "cell_type": "markdown",
      "metadata": {
        "id": "view-in-github",
        "colab_type": "text"
      },
      "source": [
        "<a href=\"https://colab.research.google.com/github/jacobleopowers/hunteriscool/blob/main/Deposit_with_Interest_Rates.ipynb\" target=\"_parent\"><img src=\"https://colab.research.google.com/assets/colab-badge.svg\" alt=\"Open In Colab\"/></a>"
      ]
    },
    {
      "cell_type": "code",
      "execution_count": 4,
      "metadata": {
        "colab": {
          "base_uri": "https://localhost:8080/"
        },
        "id": "79Noig-Q8gY2",
        "outputId": "3fae2f8d-6bac-4bea-95f5-786d3c85c9a7"
      },
      "outputs": [
        {
          "output_type": "stream",
          "name": "stdout",
          "text": [
            "Enter customer type (N = New; E = Existing): N\n",
            "Enter deposit amount: 10000\n",
            "The total amount including interest is: $10300.0\n"
          ]
        }
      ],
      "source": [
        "customer_type = input('Enter customer type (N = New; E = Existing): ')\n",
        "deposit = float(input('Enter deposit amount: '))\n",
        "\n",
        "if customer_type == \"E\":\n",
        "  if deposit > 1000:\n",
        "    r = 3.5\n",
        "  elif deposit > 1000:\n",
        "    r = 3.25\n",
        "  else:\n",
        "    r = 3\n",
        "else:\n",
        "  r = 3\n",
        "\n",
        "total = (1+ (r/100))* deposit\n",
        "print(f'The total amount including interest is: ${round(total,2)}')"
      ]
    }
  ]
}