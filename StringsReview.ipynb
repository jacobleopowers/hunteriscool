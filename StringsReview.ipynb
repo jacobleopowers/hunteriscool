{
  "nbformat": 4,
  "nbformat_minor": 0,
  "metadata": {
    "colab": {
      "provenance": [],
      "authorship_tag": "ABX9TyPQu9E/CIZJw6pegx9QUWtD",
      "include_colab_link": true
    },
    "kernelspec": {
      "name": "python3",
      "display_name": "Python 3"
    },
    "language_info": {
      "name": "python"
    }
  },
  "cells": [
    {
      "cell_type": "markdown",
      "metadata": {
        "id": "view-in-github",
        "colab_type": "text"
      },
      "source": [
        "<a href=\"https://colab.research.google.com/github/jacobleopowers/hunteriscool/blob/main/StringsReview.ipynb\" target=\"_parent\"><img src=\"https://colab.research.google.com/assets/colab-badge.svg\" alt=\"Open In Colab\"/></a>"
      ]
    },
    {
      "cell_type": "code",
      "execution_count": 15,
      "metadata": {
        "colab": {
          "base_uri": "https://localhost:8080/"
        },
        "id": "AuAfM4fCS47p",
        "outputId": "8d975d70-db16-4190-bf5a-262cfe14b08e"
      },
      "outputs": [
        {
          "output_type": "stream",
          "name": "stdout",
          "text": [
            "g\n",
            "n\n",
            "m\n",
            "s\n",
            " \n",
            "c\n",
            "o\n",
            "o\n",
            "k\n",
            "i\n",
            "n\n",
            "g\n",
            "\n",
            "g\n",
            "n\n",
            "m\n",
            "s\n",
            " \n",
            "c\n",
            "o\n",
            "o\n",
            "k\n",
            "i\n",
            "n\n",
            "g\n"
          ]
        }
      ],
      "source": [
        "s1 = \"grandmas cooking\"\n",
        "s2 = \"moms cooking\"\n",
        "for index in range(len(s1)):\n",
        "  if s1[index] in s2:\n",
        "    print(s1[index])\n",
        "print()\n",
        "for char in s1:\n",
        "  if char in s2:\n",
        "   print(char)"
      ]
    }
  ]
}