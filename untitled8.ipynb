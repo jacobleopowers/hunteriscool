{
  "nbformat": 4,
  "nbformat_minor": 0,
  "metadata": {
    "colab": {
      "provenance": [],
      "authorship_tag": "ABX9TyMTjbB4R4tHmddLIq/xn32v",
      "include_colab_link": true
    },
    "kernelspec": {
      "name": "python3",
      "display_name": "Python 3"
    },
    "language_info": {
      "name": "python"
    }
  },
  "cells": [
    {
      "cell_type": "markdown",
      "metadata": {
        "id": "view-in-github",
        "colab_type": "text"
      },
      "source": [
        "<a href=\"https://colab.research.google.com/github/jacobleopowers/hunteriscool/blob/main/untitled8.ipynb\" target=\"_parent\"><img src=\"https://colab.research.google.com/assets/colab-badge.svg\" alt=\"Open In Colab\"/></a>"
      ]
    },
    {
      "cell_type": "code",
      "execution_count": null,
      "metadata": {
        "id": "-7QysE6Y7QpD"
      },
      "outputs": [],
      "source": [
        "def example():\n",
        "  print('This is an example')\n",
        "\n",
        "  name = example()\n",
        "  print(name)\n",
        "\n"
      ]
    },
    {
      "cell_type": "markdown",
      "source": [
        "Scoping: a block of code, where objects in python retain information.\n",
        "- These \"blocks\" are just levels of indentation"
      ],
      "metadata": {
        "id": "CcS2Zl1j8vvA"
      }
    },
    {
      "cell_type": "code",
      "source": [
        "def f(x): #name x used as formal parameter\n",
        "  y = 1\n",
        "  x = x + y\n",
        "  print('x =', x)\n",
        "  return x\n",
        "\n",
        "x = 3\n",
        "y = 2\n",
        "z = f(x) #value of x used as actual parameter\n",
        "print('z =', z)\n",
        "print(\"x =\", x)\n",
        "print(\"y =\", y)"
      ],
      "metadata": {
        "colab": {
          "base_uri": "https://localhost:8080/"
        },
        "id": "SDo-l6Zb-iYT",
        "outputId": "76d4732b-2b65-48ea-9212-b50d5f82fe01"
      },
      "execution_count": null,
      "outputs": [
        {
          "output_type": "stream",
          "name": "stdout",
          "text": [
            "x = 4\n",
            "z = None\n",
            "x = 3\n",
            "y = 2\n"
          ]
        }
      ]
    },
    {
      "cell_type": "markdown",
      "source": [
        "The above code goes from line to line, as follows:\n",
        "(1) def..\n",
        "(2) x = 3\n",
        "(3) y = 2\n",
        "(4) z = f(x)\n",
        "(5) def f(x) --> comes back to this line because it is now going inside the function on (4)\n",
        "(6) y = 1\n",
        "(7) return value 4 for line (5)\n",
        "(8) print('z =', z)\n",
        "AND SO ON..."
      ],
      "metadata": {
        "id": "zzMLTneRC2Oz"
      }
    },
    {
      "cell_type": "code",
      "source": [
        "def f(x)\n",
        "  def g(x)"
      ],
      "metadata": {
        "id": "dKzjlQnNDpNj"
      },
      "execution_count": null,
      "outputs": []
    }
  ]
}